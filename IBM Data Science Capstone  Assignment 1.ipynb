{
    "cells": [
        {
            "cell_type": "markdown",
            "metadata": {},
            "source": "# IBM Capstone Project - The Battle of the Neighborhoods Week 1 "
        },
        {
            "cell_type": "markdown",
            "metadata": {},
            "source": "1. A description of the problem and a discussion of the background"
        },
        {
            "cell_type": "markdown",
            "metadata": {},
            "source": "2. A description of the data and how it will be used to solve the problem"
        },
        {
            "cell_type": "markdown",
            "metadata": {},
            "source": "## Part 1 - Description of the Problem"
        },
        {
            "cell_type": "markdown",
            "metadata": {},
            "source": "1. A restaurant entrepeneur wants to open up an italian restaurant in a major city neighborhood where there is the least competition.  \n   I have been hired as the data scientist.  \n   I have narrowed my choices down to NYC and Toronto.  \n   Toronto is the largest and fastest growing city in Canada and North America.  \n   NYC is the largest city in the United States.  \n   Rather than open up this italian restaurant in a super competitive area like either of the Little Italy areas in NYC or Toronto,  \n   the entrepeneur wants to use data science and the Foursquare API to look for the neighborhood in NYC and Toronto with the least frequency of italian restaurants.  \n   In addition the entrepeneur does not want the area to have less then the mean count of overall venues of any kind in their neighborhood.  \n   So we are basically in search of an area that has the lowest frequency of italian restaraunts, and above the mean number of total number of venues on the Foursquare API  \n   within Toronto and NYC.  "
        },
        {
            "cell_type": "markdown",
            "metadata": {},
            "source": "## Part 1 - Discussion of the Background"
        },
        {
            "cell_type": "markdown",
            "metadata": {},
            "source": "2. The entrepeneur is based in many other major cities and likes to target these areas of low penetration for italian cuisine.   \n   The entrepeneur also wants an area with greater than the mean of overall venues of any kind per the Foursquare API, \n   and for the data scientist to do other supplemental research like crime rates,\n   income per capita and whatever else we can use in the final presentation to add insight to the business case and tell a great story.    \n"
        },
        {
            "cell_type": "markdown",
            "metadata": {},
            "source": "## Part 2  - Description of the Data"
        },
        {
            "cell_type": "markdown",
            "metadata": {},
            "source": "3. The project will focus a large chunk of the analysis on Foursquare, Wikipedia, and the NYC dataset from the prior lab.   \n   The specific link to the data sets are https://en.wikipedia.org/wiki/List_of_postal_codes_of_Canada:_M    \n   and https://cocl.us/new_york_dataset.  \n   The Foursquare API will be used to run a smiliar analysis to our labs to analyze the the least frequent distribution of neighborhoods of italian restaurants,\n   and that are above the overall mean in count of overall venues.  \n   We can use the Explore or Search end points for the analysis in the Foursquare API.  \n   There will be additional research analysis added to the final deck in terms of crime, income per capita in the selected neighborhoods that will go into   \n   the final selection of the neighborhood.  \n\n    "
        },
        {
            "cell_type": "markdown",
            "metadata": {},
            "source": "## Part 2 - How the Data will be used to Solve the Problem"
        },
        {
            "cell_type": "markdown",
            "metadata": {},
            "source": "4. The Toronto data from wikipedia and the NYC data will be transformed into a validated reconciled pandas dataframe.    \n   The Foursquare API data will then be used to explore and search for restaurants and total venues by neighborhood.  \n   Once the neighborhood with above the mean total venues and the lowest frequency of italian restaurants is located,\n   a final research check on income per capita, and crime rates will be used to make a final determination in the presentation.  \n   Please note the research on income per capita and crime per neighborhood will be only used as supplemental analysis and will not be used    \n   in the short time frame we have to complete this report in the IBM Watson calculation.  The data will just be shown as a screenshot from \n   various websites to support a final decision.  "
        },
        {
            "cell_type": "code",
            "execution_count": null,
            "metadata": {},
            "outputs": [],
            "source": ""
        }
    ],
    "metadata": {
        "kernelspec": {
            "display_name": "Python 3.6",
            "language": "python",
            "name": "python3"
        },
        "language_info": {
            "codemirror_mode": {
                "name": "ipython",
                "version": 3
            },
            "file_extension": ".py",
            "mimetype": "text/x-python",
            "name": "python",
            "nbconvert_exporter": "python",
            "pygments_lexer": "ipython3",
            "version": "3.6.9"
        }
    },
    "nbformat": 4,
    "nbformat_minor": 1
}